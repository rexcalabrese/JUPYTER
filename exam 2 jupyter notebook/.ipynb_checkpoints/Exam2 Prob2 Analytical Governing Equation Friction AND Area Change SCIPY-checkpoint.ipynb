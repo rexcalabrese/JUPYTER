{
 "cells": [
  {
   "cell_type": "code",
   "execution_count": 1,
   "metadata": {},
   "outputs": [],
   "source": [
    "import matplotlib.pyplot as plt\n",
    "import numpy as np\n",
    "from scipy.optimize import fsolve\n",
    "\n",
    "import matplotlib.style as style\n",
    "from matplotlib.pyplot import cm\n",
    "\n",
    "\n",
    "import matplotlib\n",
    "%matplotlib inline \n",
    "style.use('bmh')\n",
    "matplotlib.rcParams['axes.facecolor'] = 'ffffff' \n",
    "\n",
    "\n",
    "import mplcursors\n",
    "\n",
    "import labellines as ll \n",
    "\n",
    "\n",
    "#Toggle printing for debugging\n",
    "print_on = False\n",
    "def print1(something='',somethingelse=''):\n",
    "    if print_on == True: print(something,somethingelse)\n",
    "        \n",
    "def D2A(diam):\n",
    "    return (np.pi * diam**2) / 4\n",
    "\n"
   ]
  },
  {
   "cell_type": "code",
   "execution_count": 2,
   "metadata": {},
   "outputs": [],
   "source": [
    "f=0.005 * 4\n",
    "#f = 0.017\n",
    "dd=0.1\n",
    "L = 2.04\n",
    "M_in = 5\n",
    "y=1.4 \n",
    "\n",
    "D_in = 0.2\n",
    "\n",
    "#D_exit = 0.25 * y * M_in**2 * f * L + D_in\n",
    "D_exit = 0.5570054755308268\n",
    "#D_exit = 2\n",
    "\n",
    "\n",
    "A_in = D2A(D_in)\n",
    "A_exit = D2A(D_exit)\n",
    "\n",
    "#dadx= (np.pi * (D_exit**2 - D_in**2)) /  (4 * L)\n",
    "\n"
   ]
  },
  {
   "cell_type": "markdown",
   "metadata": {},
   "source": [
    "$$\n",
    "D=\\left(\\frac{\\gamma M^{2}}{4} f\\right) x+D_{o}\n",
    "$$"
   ]
  },
  {
   "cell_type": "code",
   "execution_count": 3,
   "metadata": {},
   "outputs": [
    {
     "data": {
      "text/plain": [
       "0.5570054755308268"
      ]
     },
     "execution_count": 3,
     "metadata": {},
     "output_type": "execute_result"
    }
   ],
   "source": [
    "D_exit"
   ]
  },
  {
   "cell_type": "code",
   "execution_count": 4,
   "metadata": {},
   "outputs": [],
   "source": [
    "slope_D = (D_exit - D_in) / L\n",
    "def DofX(x):\n",
    "    return slope_D * x + D_in\n"
   ]
  },
  {
   "cell_type": "code",
   "execution_count": 5,
   "metadata": {},
   "outputs": [],
   "source": [
    "#slope_A = (A_exit - A_in) / L   \n",
    "def AofX(x):\n",
    "    return 0.25 * np.pi * DofX(x)**2"
   ]
  },
  {
   "cell_type": "code",
   "execution_count": 6,
   "metadata": {},
   "outputs": [],
   "source": [
    "def dAdx(x):\n",
    "    return 0.5 * np.pi * slope_D * DofX(x)"
   ]
  },
  {
   "cell_type": "code",
   "execution_count": 7,
   "metadata": {},
   "outputs": [],
   "source": [
    "from scipy.integrate import odeint\n",
    "import numpy as N\n",
    "\n",
    "def dm_dx_fn(M,x):\n",
    "    \"\"\"this is the rhs of the ODE to integrate, i.e. dy/dt=f(y,t)\"\"\"\n",
    "    \n",
    "    a1 = M * (2 + (y-1)*M**2)\n",
    "    a2 = 2*(1-M**2)\n",
    "    a3 = (0.5 * y * M**2 * f) / DofX(x)\n",
    "    a4 = 1/AofX(x)\n",
    "    a5 = dAdx(x)\n",
    "    #print(a1,a2,a3,a4,a5)\n",
    "    return ( a1 / a2 )  *  (a3 - a4 * a5)\n",
    "\n",
    "M0 = 5             # initial value\n",
    "a = 0           # integration limits for t\n",
    "b = L\n",
    "\n",
    "xx = N.arange(a, b, 0.001)  # values of t for\n",
    "                          # which we require\n",
    "                          # the solution y(t)\n",
    "M = odeint(dm_dx_fn, M0, xx)  # actual computation of y(t)\n",
    "\n"
   ]
  },
  {
   "cell_type": "code",
   "execution_count": 8,
   "metadata": {},
   "outputs": [
    {
     "data": {
      "text/plain": [
       "Text(0, 0.5, 'M(x)')"
      ]
     },
     "execution_count": 8,
     "metadata": {},
     "output_type": "execute_result"
    },
    {
     "data": {
      "image/png": "[encoded data removed]",
      "text/plain": [
       "<Figure size 432x288 with 1 Axes>"
      ]
     },
     "metadata": {
      "needs_background": "light"
     },
     "output_type": "display_data"
    }
   ],
   "source": [
    "import pylab          # plotting of results\n",
    "pylab.plot(xx, M)\n",
    "pylab.xlabel('x'); pylab.ylabel('M(x)')"
   ]
  },
  {
   "cell_type": "code",
   "execution_count": 9,
   "metadata": {},
   "outputs": [],
   "source": [
    "D_array = DofX(xx)\n",
    "\n",
    "\n",
    "\n",
    "def nozz_plot_mach():\n",
    "\n",
    "\n",
    "    fig3, ax3 = plt.subplots()\n",
    "    plt.plot(xx,D_array,c='k')\n",
    "    plt.plot(xx,-D_array,c='k')\n",
    "    #plt.title('Diffuser Geometry, Mach Number \\n'+title_below)\n",
    "    plt.axis('equal')\n",
    "\n",
    "\n",
    "    noz_mask = np.linspace(-1.5,1.5,15)\n",
    "    for i in range(15):\n",
    "        plt.scatter(xx,M*0 + noz_mask[i],label='M(x)',c=M,cmap='plasma',lw=12,marker='s')\n",
    "    #plt.scatter(x2_array,x2_array*0 + noz_mask[i],label='M(x)',c=m2_array,cmap='plasma',lw=100,marker='s')\n",
    "    #sct1 =plt.scatter(x2_array,x2_array*0+0.35,label='M(x)',c=m2_array,cmap='plasma',lw=10,marker='s')\n",
    "\n",
    "\n",
    "\n",
    "    #FILL ABOVE NOZZLE\n",
    "    ax3.fill_between(xx, D_array, 3+D_array,facecolor='white',cmap='plasma')\n",
    "\n",
    "    #FILL BELOW NOZZLE\n",
    "    ax3.fill_between(xx, -D_array, -(3+D_array),facecolor='white',cmap='plasma')\n",
    "\n",
    "    #FILL ON LHS OF NOZZLE\n",
    "    ax3.fill_between([-2,0], [-2,-2], [2,2],facecolor='white',cmap='plasma')\n",
    "\n",
    "    #FILL ON RHS OF NOZZLE\n",
    "    ax3.fill_between([L,L+1], [-2,-2], [2,2],facecolor='white',cmap='plasma')\n",
    "\n",
    "    plt.xlim(-0.5,3)\n",
    "    plt.ylim((-D_exit - 0.5,D_exit + 0.5))\n",
    "    plt.colorbar()\n",
    "\n",
    "    plt.show()\n",
    "    "
   ]
  },
  {
   "cell_type": "code",
   "execution_count": null,
   "metadata": {},
   "outputs": [],
   "source": []
  },
  {
   "cell_type": "code",
   "execution_count": null,
   "metadata": {},
   "outputs": [],
   "source": []
  },
  {
   "cell_type": "code",
   "execution_count": 10,
   "metadata": {},
   "outputs": [],
   "source": [
    "\n",
    "import ipywidgets as widgets\n",
    "from numba import jit,njit\n",
    "import matplotlib.pyplot as plt\n",
    "from ipywidgets import interact\n",
    "from IPython.display import HTML, display\n",
    "from IPython.display import display, Math,Markdown,Latex\n",
    "import tabulate\n",
    "import numpy as np\n",
    "from scipy.integrate import odeint\n",
    "import numpy as N\n",
    "title_below = ''\n",
    "\n",
    "import matplotlib.ticker as tk\n",
    "\n",
    "%matplotlib inline\n",
    "import mplcursors\n"
   ]
  },
  {
   "cell_type": "code",
   "execution_count": 11,
   "metadata": {},
   "outputs": [],
   "source": [
    "\n",
    "def update(M0,D_exit):\n",
    "    global D_array\n",
    "    global xx\n",
    "    global slope_D\n",
    "    global slope_A\n",
    "    global M\n",
    "    global A_in\n",
    "    global D_in\n",
    "    global A_exit\n",
    "\n",
    "    \n",
    "    \n",
    "\n",
    "    A_exit = 0.25 * np.pi * D_exit**2\n",
    "\n",
    "\n",
    "    slope_D = (D_exit - D_in) / L\n",
    "    #slope_A = (A_exit - A_in) / L \n",
    "    \n",
    "    \n",
    "\n",
    "    #M0 = 5             # initial value\n",
    "    a = 0           # integration limits for t\n",
    "    b = L\n",
    "\n",
    "    xx = N.arange(a, b, 0.001)  # values of t for\n",
    "    D_array = slope_D * xx + D_in                          # which we require\n",
    "                              # the solution y(t)\n",
    "    M = odeint(dm_dx_fn, M0, xx)  # actual computation of y(t)\n",
    "    \n",
    "    plt.figure()\n",
    "    plt.plot(xx,M)\n",
    "    \n",
    "    plt.show()\n",
    "    \n",
    "\n",
    "    nozz_plot_mach()\n",
    "    #mplcursors.cursor(hover=True)"
   ]
  },
  {
   "cell_type": "code",
   "execution_count": 12,
   "metadata": {},
   "outputs": [
    {
     "data": {
      "application/vnd.jupyter.widget-view+json": {
       "model_id": "9948184f927a451993129e4f23cfff97",
       "version_major": 2,
       "version_minor": 0
      },
      "text/plain": [
       "interactive(children=(IntSlider(value=5, continuous_update=False, description='M0', max=8, min=2), FloatSlider…"
      ]
     },
     "metadata": {},
     "output_type": "display_data"
    }
   ],
   "source": [
    "#plt.figure()\n",
    "\n",
    "interact(update, M0= widgets.IntSlider(value=5, min=2, max=8, step=1,continuous_update=False) ,\n",
    "                 D_exit= widgets.FloatSlider(value=0.557, min=0.000, max=2.00,\n",
    "                                             step=0.001,continuous_update=False), \n",
    "                 gamm= widgets.IntSlider(value=1.4, min=1, max=4, step=1));"
   ]
  },
  {
   "cell_type": "code",
   "execution_count": 215,
   "metadata": {},
   "outputs": [
    {
     "data": {
      "text/plain": [
       "array([[5.],\n",
       "       [5.],\n",
       "       [5.],\n",
       "       ...,\n",
       "       [5.],\n",
       "       [5.],\n",
       "       [5.]])"
      ]
     },
     "execution_count": 215,
     "metadata": {},
     "output_type": "execute_result"
    }
   ],
   "source": [
    "M"
   ]
  },
  {
   "cell_type": "code",
   "execution_count": 237,
   "metadata": {},
   "outputs": [
    {
     "data": {
      "text/plain": [
       "array([[5.],\n",
       "       [5.],\n",
       "       [5.],\n",
       "       ...,\n",
       "       [5.],\n",
       "       [5.],\n",
       "       [5.]])"
      ]
     },
     "execution_count": 237,
     "metadata": {},
     "output_type": "execute_result"
    }
   ],
   "source": [
    "M"
   ]
  },
  {
   "cell_type": "code",
   "execution_count": null,
   "metadata": {},
   "outputs": [],
   "source": [
    "M_2d_imshow = "
   ]
  },
  {
   "cell_type": "code",
   "execution_count": null,
   "metadata": {},
   "outputs": [],
   "source": []
  },
  {
   "cell_type": "code",
   "execution_count": 233,
   "metadata": {},
   "outputs": [
    {
     "data": {
      "image/png": "[encoded data removed]",
      "text/plain": [
       "<Figure size 432x288 with 2 Axes>"
      ]
     },
     "metadata": {
      "needs_background": "light"
     },
     "output_type": "display_data"
    }
   ],
   "source": [
    "import pylab as plt\n",
    "import numpy as np\n",
    "\n",
    "\n",
    "Z=np.array((range(1,30),range(31,60),range(61,90))).transpose()\n",
    "\n",
    "X,Y=np.meshgrid(range(Z.shape[0]+1),range(Z.shape[1]+1))\n",
    "im = plt.pcolormesh(X,Y,Z.transpose(), cmap='hot')\n",
    "plt.colorbar(im, orientation='horizontal')\n",
    "plt.show()"
   ]
  },
  {
   "cell_type": "code",
   "execution_count": 269,
   "metadata": {},
   "outputs": [
    {
     "data": {
      "image/png": "[encoded data removed]",
      "text/plain": [
       "<Figure size 432x288 with 2 Axes>"
      ]
     },
     "metadata": {
      "needs_background": "light"
     },
     "output_type": "display_data"
    }
   ],
   "source": [
    "import matplotlib.pyplot as plt\n",
    "M_2d_imshow = np.reshape(np.ndarray.flatten(M), (-1, 60))\n",
    "X,Y=np.meshgrid(range(M_2d_imshow.shape[0]+1),range(M_2d_imshow.shape[1]+1))\n",
    "#M_2d_imshow = np.expand_dims(M_2d_imshow, axis=0)  # or axis=1\n",
    "im = plt.imshow(M_2d_imshow.T)\n",
    "plt.colorbar(im, orientation='horizontal')\n",
    "plt.show()"
   ]
  },
  {
   "cell_type": "code",
   "execution_count": 386,
   "metadata": {},
   "outputs": [
    {
     "data": {
      "text/plain": [
       "35"
      ]
     },
     "execution_count": 386,
     "metadata": {},
     "output_type": "execute_result"
    }
   ],
   "source": [
    "M_2d_imshow.shape[0]+1"
   ]
  },
  {
   "cell_type": "code",
   "execution_count": 271,
   "metadata": {},
   "outputs": [
    {
     "data": {
      "image/png": "[encoded data removed]",
      "text/plain": [
       "<Figure size 432x288 with 2 Axes>"
      ]
     },
     "metadata": {
      "needs_background": "light"
     },
     "output_type": "display_data"
    }
   ],
   "source": [
    "im = plt.pcolormesh(X,Y,M_2d_imshow.transpose(), cmap='hot')\n",
    "plt.colorbar(im, orientation='horizontal')\n",
    "plt.show()"
   ]
  },
  {
   "cell_type": "code",
   "execution_count": 259,
   "metadata": {},
   "outputs": [
    {
     "data": {
      "text/plain": [
       "array([[5., 5.],\n",
       "       [5., 5.],\n",
       "       [5., 5.],\n",
       "       ...,\n",
       "       [5., 5.],\n",
       "       [5., 5.],\n",
       "       [5., 5.]])"
      ]
     },
     "execution_count": 259,
     "metadata": {},
     "output_type": "execute_result"
    }
   ],
   "source": [
    "M_2d_imshow"
   ]
  },
  {
   "cell_type": "code",
   "execution_count": 385,
   "metadata": {},
   "outputs": [
    {
     "data": {
      "image/png": "[encoded data removed]",
      "text/plain": [
       "<Figure size 432x288 with 1 Axes>"
      ]
     },
     "metadata": {
      "needs_background": "light"
     },
     "output_type": "display_data"
    }
   ],
   "source": [
    "import matplotlib.pyplot as plt\n",
    "a = np.array([1,2,3,4,5])\n",
    "a = np.expand_dims(a, axis=0)  # or axis=1\n",
    "plt.imshow(a)\n",
    "plt.show()"
   ]
  },
  {
   "cell_type": "code",
   "execution_count": 243,
   "metadata": {},
   "outputs": [
    {
     "data": {
      "text/plain": [
       "5"
      ]
     },
     "execution_count": 243,
     "metadata": {},
     "output_type": "execute_result"
    }
   ],
   "source": [
    "np.size(a)"
   ]
  },
  {
   "cell_type": "code",
   "execution_count": 253,
   "metadata": {},
   "outputs": [
    {
     "data": {
      "text/plain": [
       "array([5., 5., 5., ..., 5., 5., 5.])"
      ]
     },
     "execution_count": 253,
     "metadata": {},
     "output_type": "execute_result"
    }
   ],
   "source": [
    "np.ndarray.flatten(M_2d_imshow)"
   ]
  },
  {
   "cell_type": "code",
   "execution_count": null,
   "metadata": {},
   "outputs": [],
   "source": []
  }
 ],
 "metadata": {
  "kernelspec": {
   "display_name": "Python 3",
   "language": "python",
   "name": "python3"
  },
  "language_info": {
   "codemirror_mode": {
    "name": "ipython",
    "version": 3
   },
   "file_extension": ".py",
   "mimetype": "text/x-python",
   "name": "python",
   "nbconvert_exporter": "python",
   "pygments_lexer": "ipython3",
   "version": "3.7.4"
  }
 },
 "nbformat": 4,
 "nbformat_minor": 2
}
