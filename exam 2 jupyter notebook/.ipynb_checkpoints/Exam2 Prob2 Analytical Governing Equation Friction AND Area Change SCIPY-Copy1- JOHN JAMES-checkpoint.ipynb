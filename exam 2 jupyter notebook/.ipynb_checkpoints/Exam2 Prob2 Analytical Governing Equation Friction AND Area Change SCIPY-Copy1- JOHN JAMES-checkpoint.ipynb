{
 "cells": [
  {
   "cell_type": "code",
   "execution_count": 662,
   "metadata": {},
   "outputs": [],
   "source": [
    "import matplotlib.pyplot as plt\n",
    "import numpy as np\n",
    "from scipy.optimize import fsolve\n",
    "\n",
    "import matplotlib.style as style\n",
    "from matplotlib.pyplot import cm\n",
    "import matplotlib\n",
    "%matplotlib inline \n",
    "style.use('bmh')\n",
    "matplotlib.rcParams['axes.facecolor'] = 'ffffff' \n",
    "\n",
    "\n",
    "import mplcursors\n",
    "\n",
    "import labellines as ll \n",
    "\n",
    "\n",
    "from IPython.display import Image\n",
    "from IPython.core.display import HTML \n",
    "\n",
    "\n",
    "#Toggle printing for debugging\n",
    "print_on = False\n",
    "def print1(something='',somethingelse=''):\n",
    "    if print_on == True: print(something,somethingelse)\n",
    "        \n",
    "def D2A(diam):\n",
    "    return (np.pi * diam**2) / 4\n",
    "\n",
    "def A2D(area):\n",
    "    return (4 * area * np.pi**-1 )**0.5\n",
    "\n",
    "def D2Alpha(d_in,d_exit):\n",
    "    return np.arctan((d_exit - d_in) / (2 * L)) * (180 / np.pi)\n",
    "\n",
    "\n",
    "#Image(url= \"EXAMPLE_9_8.png\", width=500, height=100)\n",
    "\n",
    "\n"
   ]
  },
  {
   "cell_type": "code",
   "execution_count": 605,
   "metadata": {},
   "outputs": [],
   "source": [
    "f=0.02 * 4\n",
    "#f = 0.017\n",
    "dd=3/100  # 3 cm\n",
    "L = 10/100  #45 cm\n",
    "M_in = 0.2880\n",
    "y=1.4 \n",
    "\n",
    "A_in = 50 / (100**2)\n",
    "D_in = A2D(A_in)\n",
    "\n",
    "#D_exit = 0.25 * y * M_in**2 * f * L + D_in\n",
    "A_exit = 40 / (100**2)\n",
    "D_exit = A2D(A_exit)\n",
    "#D_exit = 2\n",
    "\n",
    "\n",
    "A_in = D2A(D_in)\n",
    "A_exit = D2A(D_exit)\n",
    "\n",
    "#dadx= (np.pi * (D_exit**2 - D_in**2)) /  (4 * L)\n",
    "\n"
   ]
  },
  {
   "cell_type": "code",
   "execution_count": 436,
   "metadata": {},
   "outputs": [],
   "source": [
    "M0 = 0.5\n",
    "M_in = M0\n",
    "L = 45/100 #m =5 ft\n",
    "D_in = 3/100\n",
    "D_exit = 3/100\n",
    "f = 0.02 #4 #* 4"
   ]
  },
  {
   "cell_type": "code",
   "execution_count": 563,
   "metadata": {},
   "outputs": [
    {
     "data": {
      "text/plain": [
       "'Anderson Prob 9.20 '"
      ]
     },
     "metadata": {},
     "output_type": "display_data"
    }
   ],
   "source": [
    "display('Anderson Prob 9.20 ')\n",
    "M_in = 0.127\n",
    "L = 40 #m =5 ft\n",
    "D_in = 0.02\n",
    "D_exit = 0.02\n",
    "f = 0.005  #4 #* 4 "
   ]
  },
  {
   "cell_type": "code",
   "execution_count": 576,
   "metadata": {},
   "outputs": [
    {
     "data": {
      "text/plain": [
       "'Jones EXAMPLE 9.9 ,  PG. 321'"
      ]
     },
     "metadata": {},
     "output_type": "display_data"
    },
    {
     "data": {
      "text/plain": [
       "'works with f = 0.02 * 1 '"
      ]
     },
     "metadata": {},
     "output_type": "display_data"
    }
   ],
   "source": [
    "display('Jones EXAMPLE 9.9 ,  PG. 321')\n",
    "display('works with f = 0.02 * 1 ')\n",
    "M0 = 0.6\n",
    "L = 45/100\n",
    "D_in = 3/100\n",
    "D_exit = 3/100\n",
    "f = 0.02 #* 4"
   ]
  },
  {
   "cell_type": "code",
   "execution_count": 742,
   "metadata": {},
   "outputs": [
    {
     "data": {
      "text/plain": [
       "'#EXAM 2 COMP FLOW'"
      ]
     },
     "metadata": {},
     "output_type": "display_data"
    }
   ],
   "source": [
    "################\n",
    "Widg_state = 1 #\n",
    "###############\n",
    "if Widg_state == 1:\n",
    "    display('#EXAM 2 COMP FLOW')\n",
    "    widg_M0 = 5\n",
    "    widg_L = 2.04\n",
    "    Widg_D_in = 0.2 #A2D(50 / 100**2)\n",
    "    Widg_D_exit = 0.1626*2#0.28927 # 0.556 #A2D(40 / 100**2)\n",
    "    \n",
    "    widg_f = 0.005 * 4\n",
    "    \n",
    "elif Widg_state==2:\n",
    "    display('Jones EXAMPLE 9.8 ,  PG. 318')\n",
    "    widg_M0 = 0.288\n",
    "    widg_L = 10/100\n",
    "    Widg_D_in = A2D(50 / 100**2)\n",
    "    Widg_D_exit = A2D(40 / 100**2)\n",
    "    widg_f = 0\n",
    "    \n",
    "elif Widg_state==3:\n",
    "    display('Jones EXAMPLE 9.9 ,  PG. 321')\n",
    "    display('works with f = 0.02 * 1 ')\n",
    "    widg_M0 = 0.6\n",
    "    widg_L = 45/100\n",
    "    Widg_D_in = 3/100\n",
    "    Widg_D_exit = 3/100\n",
    "    widg_f = 0.02 #* 4\n",
    "    \n",
    "elif Widg_state==4:\n",
    "    display('Anderson EXAMPLE 3.17 ,  PG. 114 : DOESNT WORK')\n",
    "    widg_M0 = 0.3\n",
    "    widg_L = 30\n",
    "    Widg_D_in = 0.15\n",
    "    Widg_D_exit = 0.15\n",
    "    widg_f = 0.005 * 4\n",
    "    \n",
    "elif Widg_state==5:\n",
    "    display('Anderson EXAMPLE 3.18 ,  PG. 115')\n",
    "    display('works with f = 0.005 * 1 ')\n",
    "    widg_M0 = 3\n",
    "    widg_L = 1.524 #m =5 ft\n",
    "    Widg_D_in = 0.12192 #m =0.4 ft\n",
    "    Widg_D_exit = 0.12192001 #m = 0.4 ft\n",
    "    widg_f = 0.005 * 4  #GOOOD #4 #* 4\n",
    "\n",
    "elif Widg_state==6:\n",
    "    display('JAMES Prob 9.20 pg 335')\n",
    "    widg_M0 = 0.5\n",
    "    widg_L = 45/100 #m =5 ft\n",
    "    Widg_D_in = 3/100\n",
    "    Widg_D_exit = 3/100\n",
    "    widg_f = 0.02 #4 #* 4\n",
    "    \n",
    "elif Widg_state==7:\n",
    "    display('Anderson Prob 9.20 ')\n",
    "    widg_M0 = 0.127\n",
    "    widg_L = 40 #m =5 ft\n",
    "    Widg_D_in = 0.02\n",
    "    Widg_D_exit = 0.020001\n",
    "    widg_f = 0.005 * 4 #4 #* 4    \n",
    "    \n",
    "\n",
    "    \n",
    "M_in = widg_M0 \n",
    "L = widg_L\n",
    "D_in = Widg_D_in \n",
    "D_exit = Widg_D_exit \n",
    "f = widg_f\n",
    "    "
   ]
  },
  {
   "cell_type": "markdown",
   "metadata": {},
   "source": [
    "$$\n",
    "D=\\left(\\frac{\\gamma M^{2}}{4} f\\right) x+D_{o}\n",
    "$$"
   ]
  },
  {
   "cell_type": "code",
   "execution_count": 743,
   "metadata": {},
   "outputs": [],
   "source": [
    "slope_D = (D_exit - D_in) / L\n",
    "def DofX(D_in,D_exit,x):\n",
    "    return slope_D * x + D_in\n",
    "\n",
    "#slope_A = (A_exit - A_in) / L   \n",
    "def AofX(D_in,D_exit,x):\n",
    "    return 0.25 * np.pi * DofX(D_in,D_exit,x)**2\n",
    "\n",
    "def dAdx(D_in,D_exit,x):\n",
    "    return 0.5 * np.pi * slope_D *DofX(D_in,D_exit,x)"
   ]
  },
  {
   "cell_type": "code",
   "execution_count": 744,
   "metadata": {},
   "outputs": [
    {
     "name": "stdout",
     "output_type": "stream",
     "text": [
      "M_exit =  [3.76982531]\n"
     ]
    }
   ],
   "source": [
    "from scipy.integrate import odeint\n",
    "import numpy as N\n",
    "\n",
    "def dm_dx_fn(M,x):\n",
    "    \"\"\"this is the rhs of the ODE to integrate, i.e. dy/dt=f(y,t)\"\"\"\n",
    "    \n",
    "    a1 = M * (2 + (y-1)*M**2)\n",
    "    a2 = 2*(1-M**2)\n",
    "    a3 = (0.5 * y * M**2 * f) / DofX(D_in,D_exit,x)\n",
    "    a4 = 1/AofX(D_in,D_exit,x)\n",
    "    a5 = dAdx(D_in,D_exit,x)\n",
    "    #print(a1,a2,a3,a4,a5)\n",
    "    return ( a1 / a2 )  *  (a3 - a4 * a5)\n",
    "\n",
    "\n",
    "a = 0           # integration limits for t\n",
    "b = L\n",
    "\n",
    "xx = N.arange(a, b, 0.001)  # values of t for\n",
    "                          # which we require\n",
    "                          # the solution y(t)\n",
    "M = odeint(dm_dx_fn, M_in, xx)  # actual computation of y(t)\n",
    "\n",
    "M_exit = float(M[-1])\n",
    "print(\"M_exit = \",M[-1])\n",
    "\n",
    "x_jones = np.arange(0,11,1) / 100\n",
    "M_jones = [0.2880,0.2948,0.3018,0.3091,0.3167,0.3246,0.3328,0.3415,0.3505,0.3599,0.36982]\n"
   ]
  },
  {
   "cell_type": "code",
   "execution_count": 745,
   "metadata": {},
   "outputs": [
    {
     "name": "stdout",
     "output_type": "stream",
     "text": [
      "M_EXIT = [3.76982531]\n"
     ]
    },
    {
     "data": {
      "text/plain": [
       "'L = 2.040 '"
      ]
     },
     "metadata": {},
     "output_type": "display_data"
    },
    {
     "data": {
      "text/plain": [
       "'f = 0.020 '"
      ]
     },
     "metadata": {},
     "output_type": "display_data"
    },
    {
     "data": {
      "text/plain": [
       "'M_in = 5.000 '"
      ]
     },
     "metadata": {},
     "output_type": "display_data"
    },
    {
     "data": {
      "text/plain": [
       "'M_exit = 3.770  '"
      ]
     },
     "metadata": {},
     "output_type": "display_data"
    },
    {
     "data": {
      "text/plain": [
       "'D_in = 0.200 meters '"
      ]
     },
     "metadata": {},
     "output_type": "display_data"
    },
    {
     "data": {
      "text/plain": [
       "'D_exit = 0.325 meters '"
      ]
     },
     "metadata": {},
     "output_type": "display_data"
    },
    {
     "data": {
      "text/plain": [
       "'α = 1.757642463679432 ° '"
      ]
     },
     "metadata": {},
     "output_type": "display_data"
    },
    {
     "name": "stdout",
     "output_type": "stream",
     "text": [
      "1\n"
     ]
    },
    {
     "data": {
      "image/png": "[encoded data removed]",
      "text/plain": [
       "<Figure size 720x480 with 1 Axes>"
      ]
     },
     "metadata": {
      "needs_background": "light"
     },
     "output_type": "display_data"
    }
   ],
   "source": [
    "import pylab# plotting of results\n",
    "plt.figure(dpi=120)\n",
    "plt.plot(xx, M)\n",
    "#plt.plot(x_jones, M_jones)\n",
    "plt.xlabel('x'); pylab.ylabel('M(x)')\n",
    "\n",
    "print('M_EXIT =',M[-1])\n",
    "display('L = {:.3f} '.format(L) )\n",
    "display('f = {:.3f} '.format(f) )\n",
    "display('M_in = {:.3f} '.format(M_in) )\n",
    "display('M_exit = {:.3f}  '.format(M_exit) )\n",
    "display('D_in = {:.3f} meters '.format(D_in) )\n",
    "display('D_exit = {:.3f} meters '.format(D_exit) )\n",
    "display('α = {} ° '.format(D2Alpha(D_in,D_exit)) )\n",
    "    \n",
    "    \n",
    "width_img = 500\n",
    "if Widg_state == 1:\n",
    "    print(1)\n",
    "elif Widg_state==2:\n",
    "    display(Image(url=\"result1.png\",width=width_img))\n",
    "elif Widg_state==3:\n",
    "    display(Image(url=\"James_ex_9_9.png\",width=width_img))    \n",
    "elif Widg_state==4:\n",
    "    display('NEED TO f*4')\n",
    "    display(Image(url=\"anderson_ex_3_17.png\",width=width_img))        \n",
    "elif Widg_state==5:\n",
    "    display(Image(url=\"anderson_ex_3_18.png\",width=width_img))  \n",
    "    \n",
    "elif Widg_state==6:\n",
    "    display('Anderson Prob 9.20 ,  PG. 115')\n",
    "    display(Image(url=\"james_prob_9_20.png\",width=width_img))\n",
    "    \n",
    "elif Widg_state==7:\n",
    "    display(Image(url=\"anderson_prob_3_12.png\",width=width_img))\n",
    "    display(Image(url=\"anderson_prob_3_12_ans.png\",width=width_img))\n",
    "    \n",
    "    "
   ]
  },
  {
   "cell_type": "code",
   "execution_count": 606,
   "metadata": {},
   "outputs": [
    {
     "name": "stdout",
     "output_type": "stream",
     "text": [
      "1\n"
     ]
    }
   ],
   "source": []
  },
  {
   "cell_type": "code",
   "execution_count": null,
   "metadata": {},
   "outputs": [],
   "source": []
  },
  {
   "cell_type": "code",
   "execution_count": null,
   "metadata": {},
   "outputs": [],
   "source": []
  },
  {
   "cell_type": "code",
   "execution_count": 589,
   "metadata": {},
   "outputs": [],
   "source": [
    "\n",
    "import ipywidgets as widgets\n",
    "from numba import jit,njit\n",
    "import matplotlib.pyplot as plt\n",
    "from ipywidgets import interact\n",
    "from IPython.display import HTML, display\n",
    "from IPython.display import display, Math,Markdown,Latex\n",
    "import tabulate\n",
    "import numpy as np\n",
    "from scipy.integrate import odeint\n",
    "import numpy as N\n",
    "title_below = ''\n",
    "\n",
    "import matplotlib.ticker as tk\n",
    "\n",
    "%matplotlib inline\n",
    "import mplcursors\n"
   ]
  },
  {
   "cell_type": "code",
   "execution_count": 590,
   "metadata": {},
   "outputs": [],
   "source": [
    "\n",
    "def update(M0,ff,LL,D_in,D_exit,gamm):\n",
    "    global D_array\n",
    "    global xx\n",
    "    global slope_D\n",
    "    global slope_A\n",
    "    global M\n",
    "    global A_in\n",
    "    global A_exit\n",
    "    global M_in\n",
    "    global f\n",
    "    global L\n",
    "    \n",
    "    f=ff\n",
    "    L=LL\n",
    "    \n",
    "    M_in = M0\n",
    "\n",
    "    #A_exit = 0.25 * np.pi * D_exit**2\n",
    "\n",
    "\n",
    "    slope_D = (D_exit - D_in) / L\n",
    "    #slope_A = (A_exit - A_in) / L \n",
    "    \n",
    "    \n",
    "\n",
    "    #M0 = 5             # initial value\n",
    "    a = 0           # integration limits for t\n",
    "    b = L\n",
    "\n",
    "    xx = N.arange(a, b, 0.001)  # values of t for\n",
    "    D_array = slope_D * xx + D_in                          # which we require\n",
    "                              # the solution y(t)\n",
    "    M = odeint(dm_dx_fn, M0, xx)  # actual computation of y(t)\n",
    "    \n",
    "    A_in = D2A(D_in)\n",
    "    A_exit = D2A(D_exit)\n",
    "    \n",
    "    M_exit = float(M[-1])\n",
    "    plt.figure(dpi=100)\n",
    "    plt.plot(xx,M)\n",
    "    M_exit_ans = float(M[-1])\n",
    "    title1 = 'M_exit = {:.3f}'.format(M_exit_ans)\n",
    "    plt.title(title1 )\n",
    "    plt.show()\n",
    "    \n",
    "    display('L = {:.3f} '.format(L) )\n",
    "    display('f = {:.3f} '.format(f) )\n",
    "    display('M_in = {:.3f} '.format(M0) )\n",
    "    display('M_exit = {:.3f}  '.format(M_exit) )\n",
    "    display('D_in = {:.3f} meters '.format(D_in) )\n",
    "    display('D_exit = {:.3f} meters '.format(D_exit) )\n",
    "    display('A_in = {:.3f} meters^2 '.format(A_in) )\n",
    "    display('A_exit = {:.3f} meters^2 '.format(A_exit) )\n",
    "    display('α = {} ° '.format(D2Alpha(D_in,D_exit)) )\n",
    "    #nozz_plot_mach()\n",
    "    #mplcursors.cursor(hover=True)"
   ]
  },
  {
   "cell_type": "code",
   "execution_count": 591,
   "metadata": {},
   "outputs": [
    {
     "data": {
      "text/html": [
       "<img src=\"ex_9_8.png\" width=\"700\"/>"
      ],
      "text/plain": [
       "<IPython.core.display.Image object>"
      ]
     },
     "execution_count": 591,
     "metadata": {},
     "output_type": "execute_result"
    }
   ],
   "source": [
    "Image(url='ex_9_8.png',width=700)"
   ]
  },
  {
   "cell_type": "code",
   "execution_count": 592,
   "metadata": {},
   "outputs": [
    {
     "data": {
      "text/plain": [
       "'Jones EXAMPLE 9.8 ,  PG. 318'"
      ]
     },
     "metadata": {},
     "output_type": "display_data"
    },
    {
     "data": {
      "application/vnd.jupyter.widget-view+json": {
       "model_id": "73cb0acaaf4341e8ac249565e7edb2ce",
       "version_major": 2,
       "version_minor": 0
      },
      "text/plain": [
       "interactive(children=(FloatSlider(value=0.288, continuous_update=False, description='M0', max=8.0, min=0.01, s…"
      ]
     },
     "metadata": {},
     "output_type": "display_data"
    },
    {
     "data": {
      "text/html": [
       "<img src=\"result1.png\" width=\"500\"/>"
      ],
      "text/plain": [
       "<IPython.core.display.Image object>"
      ]
     },
     "metadata": {},
     "output_type": "display_data"
    }
   ],
   "source": [
    "#plt.figure()\n",
    "\n",
    "################\n",
    "Widg_state = 2 #\n",
    "###############\n",
    "if Widg_state == 1:\n",
    "    display('#EXAM 2 COMP FLOW')\n",
    "    widg_M0 = 5\n",
    "    widg_L = 2.04\n",
    "    Widg_D_in = 0.2 #A2D(50 / 100**2)\n",
    "    Widg_D_exit = 0.28927 # 0.556 #A2D(40 / 100**2)\n",
    "    widg_f = 0.005 #* 4\n",
    "    \n",
    "elif Widg_state==2:\n",
    "    display('Jones EXAMPLE 9.8 ,  PG. 318')\n",
    "    widg_M0 = 0.288\n",
    "    widg_L = 10/100\n",
    "    Widg_D_in = A2D(50 / 100**2)\n",
    "    Widg_D_exit = A2D(40 / 100**2)\n",
    "    widg_f = 0\n",
    "    \n",
    "elif Widg_state==3:\n",
    "    display('Jones EXAMPLE 9.9 ,  PG. 321')\n",
    "    display('works with f = 0.02 * 1 ')\n",
    "    widg_M0 = 0.6\n",
    "    widg_L = 45/100\n",
    "    Widg_D_in = 3/100\n",
    "    Widg_D_exit = 3/100\n",
    "    widg_f = 0.02 #* 4\n",
    "    \n",
    "elif Widg_state==4:\n",
    "    display('Anderson EXAMPLE 3.17 ,  PG. 114 : DOESNT WORK')\n",
    "    widg_M0 = 0.3\n",
    "    widg_L = 30\n",
    "    Widg_D_in = 0.15\n",
    "    Widg_D_exit = 0.15\n",
    "    widg_f = 0.005 \n",
    "    \n",
    "elif Widg_state==5:\n",
    "    display('Anderson EXAMPLE 3.18 ,  PG. 115')\n",
    "    display('works with f = 0.005 * 1 ')\n",
    "    widg_M0 = 3\n",
    "    widg_L = 1.524 #m =5 ft\n",
    "    Widg_D_in = 0.12192 #m =0.4 ft\n",
    "    Widg_D_exit = 0.12192001 #m = 0.4 ft\n",
    "    widg_f = 0.005  #GOOOD #4 #* 4\n",
    "\n",
    "elif Widg_state==6:\n",
    "    display('Anderson Prob 9.20 ,  PG. 115')\n",
    "    widg_M0 = 0.5\n",
    "    widg_L = 45/100 #m =5 ft\n",
    "    Widg_D_in = 3/100\n",
    "    Widg_D_exit = 3/100\n",
    "    widg_f = 0.02 #4 #* 4\n",
    "    \n",
    "elif Widg_state==7:\n",
    "    display('Anderson Prob 9.20 ')\n",
    "    widg_M0 = 0.127\n",
    "    widg_L = 40 #m =5 ft\n",
    "    Widg_D_in = 0.02\n",
    "    Widg_D_exit = 0.020001\n",
    "    widg_f = 0.005 * 4 #4 #* 4    \n",
    "    \n",
    "interact(update, M0= widgets.FloatSlider(value=widg_M0, min=0.01, max=8, step=0.0001,continuous_update=False) ,\n",
    "                 ff= widgets.FloatSlider(value=widg_f, min=0, max=1, step=0.01,continuous_update=False) ,\n",
    "                 LL= widgets.FloatSlider(value=widg_L, min=0.001, max=60, step=0.0001,continuous_update=False) ,\n",
    "                 D_in= widgets.FloatSlider(value=Widg_D_in, min=0.000, max=2.00,step=0.0001,continuous_update=False),\n",
    "                 D_exit= widgets.FloatSlider(value=Widg_D_exit, min=0.000, max=2.00,step=0.0001,continuous_update=False),\n",
    "                 gamm= widgets.FloatSlider(value=1.4, min=1, max=4, step=0.001)\n",
    "        );\n",
    "\n",
    "\n",
    "width_img = 500\n",
    "if Widg_state == 1:\n",
    "    print(1)\n",
    "elif Widg_state==2:\n",
    "    display(Image(url=\"result1.png\",width=width_img))\n",
    "elif Widg_state==3:\n",
    "    display(Image(url=\"James_ex_9_9.png\",width=width_img))    \n",
    "elif Widg_state==4:\n",
    "    display(Image(url=\"anderson_ex_3_17.png\",width=width_img))        \n",
    "elif Widg_state==5:\n",
    "    display(Image(url=\"anderson_ex_3_18.png\",width=width_img))  \n",
    "    \n",
    "    \n",
    "elif Widg_state==7:\n",
    "    display(Image(url=\"anderson_prob_3_12.png\",width=width_img))\n",
    "    display(Image(url=\"anderson_prob_3_12_ans.png\",width=width_img))\n",
    "    \n",
    "    "
   ]
  },
  {
   "cell_type": "code",
   "execution_count": null,
   "metadata": {},
   "outputs": [],
   "source": []
  },
  {
   "cell_type": "code",
   "execution_count": 237,
   "metadata": {},
   "outputs": [
    {
     "data": {
      "text/plain": [
       "array([[5.],\n",
       "       [5.],\n",
       "       [5.],\n",
       "       ...,\n",
       "       [5.],\n",
       "       [5.],\n",
       "       [5.]])"
      ]
     },
     "execution_count": 237,
     "metadata": {},
     "output_type": "execute_result"
    }
   ],
   "source": [
    "M"
   ]
  },
  {
   "cell_type": "code",
   "execution_count": null,
   "metadata": {},
   "outputs": [],
   "source": [
    "M_2d_imshow = "
   ]
  },
  {
   "cell_type": "code",
   "execution_count": null,
   "metadata": {},
   "outputs": [],
   "source": []
  },
  {
   "cell_type": "code",
   "execution_count": 233,
   "metadata": {},
   "outputs": [
    {
     "data": {
      "image/png": "[encoded data removed]",
      "text/plain": [
       "<Figure size 432x288 with 2 Axes>"
      ]
     },
     "metadata": {
      "needs_background": "light"
     },
     "output_type": "display_data"
    }
   ],
   "source": [
    "import pylab as plt\n",
    "import numpy as np\n",
    "\n",
    "\n",
    "Z=np.array((range(1,30),range(31,60),range(61,90))).transpose()\n",
    "\n",
    "X,Y=np.meshgrid(range(Z.shape[0]+1),range(Z.shape[1]+1))\n",
    "im = plt.pcolormesh(X,Y,Z.transpose(), cmap='hot')\n",
    "plt.colorbar(im, orientation='horizontal')\n",
    "plt.show()"
   ]
  },
  {
   "cell_type": "code",
   "execution_count": 269,
   "metadata": {},
   "outputs": [
    {
     "data": {
      "image/png": "[encoded data removed]",
      "text/plain": [
       "<Figure size 432x288 with 2 Axes>"
      ]
     },
     "metadata": {
      "needs_background": "light"
     },
     "output_type": "display_data"
    }
   ],
   "source": [
    "import matplotlib.pyplot as plt\n",
    "M_2d_imshow = np.reshape(np.ndarray.flatten(M), (-1, 60))\n",
    "X,Y=np.meshgrid(range(M_2d_imshow.shape[0]+1),range(M_2d_imshow.shape[1]+1))\n",
    "#M_2d_imshow = np.expand_dims(M_2d_imshow, axis=0)  # or axis=1\n",
    "im = plt.imshow(M_2d_imshow.T)\n",
    "plt.colorbar(im, orientation='horizontal')\n",
    "plt.show()"
   ]
  },
  {
   "cell_type": "code",
   "execution_count": 386,
   "metadata": {},
   "outputs": [
    {
     "data": {
      "text/plain": [
       "35"
      ]
     },
     "execution_count": 386,
     "metadata": {},
     "output_type": "execute_result"
    }
   ],
   "source": [
    "M_2d_imshow.shape[0]+1"
   ]
  },
  {
   "cell_type": "code",
   "execution_count": 271,
   "metadata": {},
   "outputs": [
    {
     "data": {
      "image/png": "[encoded data removed]",
      "text/plain": [
       "<Figure size 432x288 with 2 Axes>"
      ]
     },
     "metadata": {
      "needs_background": "light"
     },
     "output_type": "display_data"
    }
   ],
   "source": [
    "im = plt.pcolormesh(X,Y,M_2d_imshow.transpose(), cmap='hot')\n",
    "plt.colorbar(im, orientation='horizontal')\n",
    "plt.show()"
   ]
  },
  {
   "cell_type": "code",
   "execution_count": 259,
   "metadata": {},
   "outputs": [
    {
     "data": {
      "text/plain": [
       "array([[5., 5.],\n",
       "       [5., 5.],\n",
       "       [5., 5.],\n",
       "       ...,\n",
       "       [5., 5.],\n",
       "       [5., 5.],\n",
       "       [5., 5.]])"
      ]
     },
     "execution_count": 259,
     "metadata": {},
     "output_type": "execute_result"
    }
   ],
   "source": [
    "M_2d_imshow"
   ]
  },
  {
   "cell_type": "code",
   "execution_count": 385,
   "metadata": {},
   "outputs": [
    {
     "data": {
      "image/png": "[encoded data removed]",
      "text/plain": [
       "<Figure size 432x288 with 1 Axes>"
      ]
     },
     "metadata": {
      "needs_background": "light"
     },
     "output_type": "display_data"
    }
   ],
   "source": [
    "import matplotlib.pyplot as plt\n",
    "a = np.array([1,2,3,4,5])\n",
    "a = np.expand_dims(a, axis=0)  # or axis=1\n",
    "plt.imshow(a)\n",
    "plt.show()"
   ]
  },
  {
   "cell_type": "code",
   "execution_count": 243,
   "metadata": {},
   "outputs": [
    {
     "data": {
      "text/plain": [
       "5"
      ]
     },
     "execution_count": 243,
     "metadata": {},
     "output_type": "execute_result"
    }
   ],
   "source": [
    "np.size(a)"
   ]
  },
  {
   "cell_type": "code",
   "execution_count": 253,
   "metadata": {},
   "outputs": [
    {
     "data": {
      "text/plain": [
       "array([5., 5., 5., ..., 5., 5., 5.])"
      ]
     },
     "execution_count": 253,
     "metadata": {},
     "output_type": "execute_result"
    }
   ],
   "source": [
    "np.ndarray.flatten(M_2d_imshow)"
   ]
  },
  {
   "cell_type": "code",
   "execution_count": null,
   "metadata": {},
   "outputs": [],
   "source": [
    "D_array = DofX(xx)\n",
    "\n",
    "\n",
    "\n",
    "def nozz_plot_mach():\n",
    "\n",
    "\n",
    "    fig3, ax3 = plt.subplots()\n",
    "    plt.plot(xx,D_array,c='k')\n",
    "    plt.plot(xx,-D_array,c='k')\n",
    "    #plt.title('Diffuser Geometry, Mach Number \\n'+title_below)\n",
    "    plt.axis('equal')\n",
    "\n",
    "\n",
    "    noz_mask = np.linspace(-5,5,15)\n",
    "    for i in range(15):\n",
    "        plt.scatter(xx,M*0 + noz_mask[i],label='M(x)',c=M,cmap='plasma',lw=12,marker='s')\n",
    "    #plt.scatter(x2_array,x2_array*0 + noz_mask[i],label='M(x)',c=m2_array,cmap='plasma',lw=100,marker='s')\n",
    "    #sct1 =plt.scatter(x2_array,x2_array*0+0.35,label='M(x)',c=m2_array,cmap='plasma',lw=10,marker='s')\n",
    "\n",
    "\n",
    "\n",
    "    #FILL ABOVE NOZZLE\n",
    "    ax3.fill_between(xx, D_array, 3+D_array,facecolor='white',cmap='plasma')\n",
    "\n",
    "    #FILL BELOW NOZZLE\n",
    "    ax3.fill_between(xx, -D_array, -(3+D_array),facecolor='white',cmap='plasma')\n",
    "\n",
    "    #FILL ON LHS OF NOZZLE\n",
    "    ax3.fill_between([-2,0], [-2,-2], [2,2],facecolor='white',cmap='plasma')\n",
    "\n",
    "    #FILL ON RHS OF NOZZLE\n",
    "    ax3.fill_between([L,L+1], [-2,-2], [2,2],facecolor='white',cmap='plasma')\n",
    "\n",
    "    plt.xlim(0-L/9,L+L/9)\n",
    "    plt.ylim((-(D_exit+ 0.1*D_exit),D_exit+ 0.1*D_exit))\n",
    "    plt.colorbar()\n",
    "\n",
    "    plt.show()\n",
    "    "
   ]
  },
  {
   "cell_type": "code",
   "execution_count": null,
   "metadata": {},
   "outputs": [],
   "source": []
  },
  {
   "cell_type": "code",
   "execution_count": null,
   "metadata": {},
   "outputs": [],
   "source": []
  },
  {
   "cell_type": "markdown",
   "metadata": {},
   "source": [
    "BY HAND"
   ]
  },
  {
   "cell_type": "code",
   "execution_count": null,
   "metadata": {},
   "outputs": [],
   "source": [
    "#turb\n",
    "re = \n",
    "thickness = 0.16 * 2.04 * RE***(1/7)"
   ]
  },
  {
   "cell_type": "code",
   "execution_count": 661,
   "metadata": {},
   "outputs": [
    {
     "data": {
      "text/plain": [
       "0.0018897411266313574"
      ]
     },
     "execution_count": 661,
     "metadata": {},
     "output_type": "execute_result"
    }
   ],
   "source": [
    "nu  = 16.97e-6  #m^2/s\n",
    "U = 5 * (287 * 1.4 * 300)**0.5\n",
    "DH = 0.2\n",
    "RE = (U * DH) / nu\n",
    "thickness = (4.19 * 2.04)  / RE**(1/2)\n",
    "thickness"
   ]
  },
  {
   "cell_type": "code",
   "execution_count": null,
   "metadata": {},
   "outputs": [],
   "source": []
  }
 ],
 "metadata": {
  "kernelspec": {
   "display_name": "Python 3",
   "language": "python",
   "name": "python3"
  },
  "language_info": {
   "codemirror_mode": {
    "name": "ipython",
    "version": 3
   },
   "file_extension": ".py",
   "mimetype": "text/x-python",
   "name": "python",
   "nbconvert_exporter": "python",
   "pygments_lexer": "ipython3",
   "version": "3.7.4"
  }
 },
 "nbformat": 4,
 "nbformat_minor": 2
}
